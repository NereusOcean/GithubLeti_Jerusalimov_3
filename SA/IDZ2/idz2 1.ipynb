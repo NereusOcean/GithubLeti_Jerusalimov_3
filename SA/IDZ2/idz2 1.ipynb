{
  "cells":[
    {
      "cell_type":"markdown",
      "source":[
        "## Иерусалимов Никита\n",
        "### ИДЗ№2 "
      ],
      "attachments":{
        
      },
      "metadata":{
        "datalore":{
          "sheet_delimiter":false
        }
      }
    },
    {
      "cell_type":"markdown",
      "source":[
        "<img src=\"https:\/\/sun9-43.userapi.com\/impg\/26rBhovjpo8ohwx1jBJbrZPIEZiYmRss63uOpw\/WZkfjaQVyhI.jpg?size=901x1018&quality=96&sign=d5afcd72b1d3c409b3110c0aa2760153&type=album\" alt=\"MarineGEO circle logo\" style=\"height: auto; width:auto;\"\/>"
      ],
      "attachments":{
        
      },
      "metadata":{
        "datalore":{
          "sheet_delimiter":false
        }
      }
    },
    {
      "cell_type":"code",
      "source":[
        "#install lib and include"
      ],
      "execution_count":368,
      "outputs":[
        
      ],
      "metadata":{
        "datalore":{
          "sheet_delimiter":false
        }
      }
    },
    {
      "cell_type":"markdown",
      "source":[
        "### Ход решения\n",
        "\n",
        "  \n",
        "**Задание 1**  \n",
        "### a) Построить вариационный ряд, эмпирическую функцию распределения и гистограмму частот.  \n",
        "\n"
      ],
      "attachments":{
        
      },
      "metadata":{
        "datalore":{
          "sheet_delimiter":false
        }
      }
    },
    {
      "cell_type":"code",
      "source":[
        "x<-c(3, 8, 6, 1, 6, 4, 1, 6, 6, 5, 3, 5, 4, 6, 4, 6, 3, 6, 5, 10, 5, 3, 2, 5, 8, 4, 5, 13, 7, 6, 4, 3, 1, 5, 5, 9, 1, 3, 7, 5, 6, 2, 4, 6, 6, 6,\n",
        "6, 7, 5, 2)\n",
        "\n",
        "VariationalSeries<-sort(x)\n",
        "cat(\"Вариационный ряд: \",VariationalSeries)"
      ],
      "execution_count":369,
      "outputs":[
        {
          "name":"stdout",
          "text":[
            "Вариационный ряд:  1 1 1 1 2 2 2 3 3 3 3 3 3 4 4 4 4 4 4 5 5 5 5 5 5 5 5 5 5 6 6 6 6 6 6 6 6 6 6 6 6 6 7 7 7 8 8 9 10 13"
          ],
          "output_type":"stream"
        }
      ],
      "metadata":{
        "datalore":{
          "sheet_delimiter":false
        }
      }
    },
    {
      "cell_type":"markdown",
      "source":[
        "Формула эмпирической функции распределения:  \n",
        "$\\large\\frac 1n\\sum_{i=1}^{n}$ \n",
        "\n",
        "Построение эмпирической функции распределения:"
      ],
      "attachments":{
        
      },
      "metadata":{
        "datalore":{
          "sheet_delimiter":false
        }
      }
    },
    {
      "cell_type":"code",
      "source":[
        "#создаем и вычисляем эмпирической функцию распределения\n",
        "F<- function(x,t){z<-x[x<t]; length(z)\/length(x)}\n",
        "cat(\"F(X)=\\n |\",F(x,1),\"    ,    X<=1   |\\n\",\n",
        "\"|\",F(x,2),\" ,   1<X<=2  |\\n\",\n",
        "\"|\",F(x,3),\" ,   2<X<=3  |\\n\",\n",
        "\"|\",F(x,4),\" ,   3<X<=4  |\\n\",\n",
        "\"|\",F(x,5),\" ,   4<X<=5  |\\n\",\n",
        "\"|\",F(x,6),\" ,   5<X<=6  |\\n\",\n",
        "\"|\",F(x,7),\" ,   6<X<=7  |\\n\",\n",
        "\"|\",F(x,8),\"  ,   7<X<=8  |\\n\",\n",
        "\"|\",F(x,9),\" ,   8<X<=9  |\\n\",\n",
        "\"|\",F(x,10),\" ,  9<X<=10  |\\n\",\n",
        "\"|\",F(x,11),\" ,  10<X<=13 |\\n\",\n",
        "\"|\",F(x,13.000001),\"    ,    X>13   |\\n\")\n",
        "\n",
        "\n",
        "\n",
        "#Строим график\n",
        "plot(ecdf(x))"
      ],
      "execution_count":370,
      "outputs":[
        {
          "name":"stdout",
          "text":[
            "F(X)=\n",
            " | 0     ,    X<=1   |\n",
            " | 0.08  ,   1<X<=2  |\n",
            " | 0.14  ,   2<X<=3  |\n",
            " | 0.26  ,   3<X<=4  |\n",
            " | 0.38  ,   4<X<=5  |\n",
            " | 0.58  ,   5<X<=6  |\n",
            " | 0.84  ,   6<X<=7  |\n",
            " | 0.9   ,   7<X<=8  |\n",
            " | 0.94  ,   8<X<=9  |\n",
            " | 0.96  ,  9<X<=10  |\n",
            " | 0.98  ,  10<X<=13 |\n",
            " | 1     ,    X>13   |\n"
          ],
          "output_type":"stream"
        },
        {
          "data":{
            "image\/png":"[encoded data removed]"
          },
          "metadata":{
            "image\/png":{
              "width":420,
              "height":420
            }
          },
          "output_type":"display_data"
        }
      ],
      "metadata":{
        "datalore":{
          "sheet_delimiter":false
        }
      }
    },
    {
      "cell_type":"code",
      "source":[
        "#Построение гистограммы частот\n",
        "h <- hist(x,col=\"purple\")"
      ],
      "execution_count":371,
      "outputs":[
        {
          "data":{
            "image\/png":"[encoded data removed]"
          },
          "metadata":{
            "image\/png":{
              "width":420,
              "height":420
            }
          },
          "output_type":"display_data"
        }
      ],
      "metadata":{
        "datalore":{
          "sheet_delimiter":false
        }
      }
    },
    {
      "cell_type":"markdown",
      "source":[
        "### **b)** Вычислить выборочные аналоги следующих числовых характеристик:   \n",
        "(i) математического ожидания, (ii) дисперсии, (iii) медианы, (iv) асимметрии, (v) эксцесса, (vi) вероятности P(X $\\in$ [a, b]).\n",
        "\n",
        "Формула мат. ожидания\n",
        "\n",
        "$E(x) = \\sum_{i=1}^nx_ip_i = \\frac1n\\sum_{i=1}^nx_i$\n",
        "\n",
        "**(i) Нахождение математического ожидания:**"
      ],
      "attachments":{
        
      },
      "metadata":{
        "datalore":{
          "sheet_delimiter":false
        }
      }
    },
    {
      "cell_type":"code",
      "source":[
        "#E - мат. ожидание\n",
        "E<-sum(x)\/length(x)\n",
        "cat(\"E(x) = \",E)\n",
        "mean(x)"
      ],
      "execution_count":372,
      "outputs":[
        {
          "name":"stdout",
          "text":[
            "E(x) =  4.98"
          ],
          "output_type":"stream"
        }
      ],
      "metadata":{
        "datalore":{
          "sheet_delimiter":false
        }
      }
    },
    {
      "cell_type":"markdown",
      "source":[
        "Формула дисперсии\n",
        "\n",
        "$D(x) = E(x^2) - (E(x))^2 = \\frac{1}{n}\\sum_{i=1}^nx_i^2 - \\frac{1}{n^2}\\sum_{i=1}^nx_i^2$\n",
        "\n",
        "**(ii) Нахождение дисперсии**"
      ],
      "attachments":{
        
      },
      "metadata":{
        "datalore":{
          "sheet_delimiter":false
        }
      }
    },
    {
      "cell_type":"code",
      "source":[
        "#D - дисперсия\n",
        "D<-sum(x^2)\/length(x)-E^2\n",
        "cat(\"D(x) = \",D)"
      ],
      "execution_count":373,
      "outputs":[
        {
          "name":"stdout",
          "text":[
            "D(x) =  5.3796"
          ],
          "output_type":"stream"
        }
      ],
      "metadata":{
        "datalore":{
          "sheet_delimiter":false
        }
      }
    },
    {
      "cell_type":"markdown",
      "source":[
        "Формула для нахождения медианы:\n",
        "\n",
        "$M_e = \\left\\{\n",
        "  \\begin{array}{ccc}\n",
        "    X_{np}, &np \\in Z \\\\\n",
        "    \\frac{X_{np}+X_{np+1}}{2},&np \\notin Z \\\\\n",
        "  \\end{array}\n",
        "\\right. | p=\\frac12\n",
        "$\n",
        "\n",
        "**(iii) Нахождение медианы:**"
      ],
      "attachments":{
        
      },
      "metadata":{
        "datalore":{
          "sheet_delimiter":false
        }
      }
    },
    {
      "cell_type":"code",
      "source":[
        "if(length(VariationalSeries)%%2!=0){ #если остаток от деления по модулю не делится без остатка \n",
        "\n",
        "M_e<-VariationalSeries[(length(VariationalSeries)-1)\/2]\n",
        "\n",
        "} else {\n",
        "\n",
        "M_e<-(VariationalSeries[(length(VariationalSeries))\/2]+VariationalSeries[(length(VariationalSeries)+2)\/2])\/2\n",
        "\n",
        "}\n",
        "cat(\"M_e = \", M_e)"
      ],
      "execution_count":374,
      "outputs":[
        {
          "name":"stdout",
          "text":[
            "M_e =  5"
          ],
          "output_type":"stream"
        }
      ],
      "metadata":{
        "datalore":{
          "sheet_delimiter":false
        }
      }
    },
    {
      "cell_type":"markdown",
      "source":[
        "Формула для нахождения асимметрии:\n",
        "\n",
        "$\\large A_s = \\frac{E(x-E(x))^3}{(D(X))^{\\frac32}}$\n",
        "\n",
        "**(iv) Нахождение асимметрии:**"
      ],
      "attachments":{
        
      },
      "metadata":{
        "datalore":{
          "sheet_delimiter":false
        }
      }
    },
    {
      "cell_type":"code",
      "source":[
        "\n",
        "\n",
        "\n",
        "A_s<-sum((x-E)^3)\/(length(x)*D^(3\/2));\n",
        "cat(\"A_s = \", A_s,\"\\n\")\n",
        "cat(\"Проверка с помощью внутр. функции = \", skewness(x))"
      ],
      "execution_count":375,
      "outputs":[
        {
          "name":"stdout",
          "text":[
            "A_s =  0.6686303 \n",
            "Проверка с помощью внутр. функции =  0.6686303"
          ],
          "output_type":"stream"
        }
      ],
      "metadata":{
        "datalore":{
          "sheet_delimiter":false
        }
      }
    },
    {
      "cell_type":"markdown",
      "source":[
        "Формула для нахождения эксцесса: \n",
        "\n",
        "$\\large𝐸_𝑘=\\frac{𝐸(𝑥−𝐸(𝑥))^4}{(𝐷(𝑥))^2}−3$\n",
        "\n",
        "**(v) Нахождение эксцесса:**"
      ],
      "attachments":{
        
      },
      "metadata":{
        "datalore":{
          "sheet_delimiter":false
        }
      }
    },
    {
      "cell_type":"code",
      "source":[
        "E_k<-(sum((x-E)^4)\/(length(x)*D^2))-3;\n",
        "cat(\"E_k = \", E_k)"
      ],
      "execution_count":376,
      "outputs":[
        {
          "name":"stdout",
          "text":[
            "E_k =  1.562338"
          ],
          "output_type":"stream"
        }
      ],
      "metadata":{
        "datalore":{
          "sheet_delimiter":false
        }
      }
    },
    {
      "cell_type":"markdown",
      "source":[
        "Формула для нахождения вероятности $P(X∈[a,b])$: \n",
        "\n",
        "$𝑃(𝑋∈[𝑎,𝑏])=𝐹(𝑏)−𝐹(𝑎)$\n",
        "\n",
        "**(vi) Нахождение вероятности $P(X∈[a,b])$:**"
      ],
      "attachments":{
        
      },
      "metadata":{
        "datalore":{
          "sheet_delimiter":false
        }
      }
    },
    {
      "cell_type":"code",
      "source":[
        "a <- 4.55\n",
        "b <- 5.45\n",
        "p <- F(x,b) - F(x,a)\n",
        "cat(\"P(X∈[a,b]) = \", p)"
      ],
      "execution_count":377,
      "outputs":[
        {
          "name":"stdout",
          "text":[
            "P(X∈[a,b]) =  0.2"
          ],
          "output_type":"stream"
        }
      ],
      "metadata":{
        "datalore":{
          "sheet_delimiter":false
        }
      }
    },
    {
      "cell_type":"markdown",
      "source":[
        "### **c)** *В предположении, что исходные наблюдения являются выборкой из распределения Пуассона, построить оценку максимального правдоподобия параметра λ, а также оценку λ по методу моментов. Найти смещение оценок.*\n",
        "\n",
        "**Нахождение оценки максимального правдоподобия параметра λ:**"
      ],
      "attachments":{
        
      },
      "metadata":{
        "datalore":{
          "sheet_delimiter":false
        }
      }
    },
    {
      "cell_type":"code",
      "source":[
        "#install.packages(\"maxLik\") #Если нет maxLik раскомментируйте и запустите  "
      ],
      "execution_count":378,
      "outputs":[
        
      ],
      "metadata":{
        "datalore":{
          "sheet_delimiter":false
        }
      }
    },
    {
      "cell_type":"code",
      "source":[
        "\n",
        "\n",
        "\n",
        "LL<-function(t){sum(dpois(x,t[1],log=TRUE))}\n",
        "\n",
        "maxLL<-maxNR(LL,start=c(1))\n",
        "\n",
        "OMP<-maxLL$estimate\n",
        "cat(\"ОМП = \", OMP)"
      ],
      "execution_count":379,
      "outputs":[
        {
          "name":"stdout",
          "text":[
            "ОМП =  4.98"
          ],
          "output_type":"stream"
        }
      ],
      "metadata":{
        "datalore":{
          "sheet_delimiter":false
        }
      }
    },
    {
      "cell_type":"markdown",
      "source":[
        "\n",
        "Сделаем теоретическую проверку.\n",
        "\n",
        "Плотность распределения Пуассона\n",
        "\n",
        " $\\large𝑝(𝑘)=\\frac{𝑒^{−𝜆}𝜆^𝑘}{𝑘!}$\n",
        "\n",
        "Оценка максимального правдоподобия\n",
        "\n",
        "$\\large 𝐿(𝑥⃗,𝜆)=\\frac{𝜆^{\\large\\sum_{i=1}^nx_i  * e^{-n𝜆}}}{\\prod_{i=1}^nx_i!}$\n",
        "\n",
        "$\\large 𝐿𝐿(𝑥⃗,𝜆)=log(𝜆)\\sum_{i=1}^n𝑥𝑖−𝑛𝜆−log⁡(\\prod_{𝑥𝑖}^𝑛x_𝑖!)$\n",
        "\n",
        "$\\large 𝜕𝜕𝜆𝐿𝐿(𝑥⃗,𝜆)=\\frac{\\sum_{i=1}^nx_i}{𝜆}−𝑛=0$\n",
        "\n",
        "$\\large 𝜆\\bar\\lambda=\\frac{\\sum_{i=1}^nx_i}{n} =\\bar x = 4.98 (\\bar x = E) $ \n",
        "\n",
        "**Нахождение оценки λ по методу моментов:**"
      ],
      "attachments":{
        
      },
      "metadata":{
        "datalore":{
          "sheet_delimiter":false
        }
      }
    },
    {
      "cell_type":"code",
      "source":[
        "\n",
        "MM<-E\n",
        "cat(\"ОМП = \", MM)"
      ],
      "execution_count":380,
      "outputs":[
        {
          "name":"stdout",
          "text":[
            "ОМП =  4.98"
          ],
          "output_type":"stream"
        }
      ],
      "metadata":{
        "datalore":{
          "sheet_delimiter":false
        }
      }
    },
    {
      "cell_type":"markdown",
      "source":[
        "Сделаем теоретическую проверку.\n",
        "\n",
        "Плотность распределения Пуассона\n",
        "\n",
        " $\\large𝑝(𝑘)=\\frac{𝑒^{−𝜆}𝜆^𝑘}{𝑘!}$\n",
        "\n",
        " Метод моментов\n",
        "\n",
        "$\\large 𝐸(𝑥1)=𝜆 $  \n",
        "$\\large 𝑥̅=𝐸(𝑥1)$  \n",
        "$\\large \\bar\\lambda=\\frac{\\sum_{i=1}^nx_i}{n} = \\bar x = 4.98 (\\bar x = E)$\n",
        "\n",
        "Нахождение смещения оценок\n",
        "\n",
        "$\\large 𝐸(\\bar\\lambda)=𝐸(\\bar x)=\\frac1n\\sum_{i=1}^nE(x_i)=\\frac{𝑛𝜆}{𝑛}=𝜆=𝐸(𝜆)$ \n",
        "\n",
        "Следовательно, оценка $\\bar\\lambda = \\bar x$ несмещённая.\n",
        "\n",
        "### d) Построить асимптотический доверительный интервал уровня значимости $α_1$ для параметра λ на базе оценки максимального правдоподобия.\n"
      ],
      "attachments":{
        
      },
      "metadata":{
        "datalore":{
          "sheet_delimiter":false
        }
      }
    },
    {
      "cell_type":"markdown",
      "source":[
        "Так как $x_i$ имеет распределение Пуассона, то $I_1(\\lambda)=\\frac 1\\lambda$. Из этого следует, что $I(𝜆)=𝑛∗𝐼_1(𝜆)=\\frac n\\lambda $.\n",
        "\n",
        "По методу максимального правдоподобия:\n",
        "\n",
        "$\\Large \\bar \\lambda = \\frac{\\sum_{i=1}^{n}x_i}{n} = \\bar x$\n",
        "\n",
        "$\\Large \\sqrt{I(\\lambda)}(\\bar \\lambda - \\lambda) => N(0,1)$\n",
        "\n",
        "Эксперимент регулярен, значит, подстановка ОМП вместо параметра в информацию Фишера не нарушает асимптотической нормальности.\n",
        "\n",
        "$\\Large \\sqrt{n*I_1(\\lambda)}(\\bar  \\lambda - \\lambda) => N(0,1)$\n",
        "\n",
        "$\\Large \\sqrt{\\frac{n}{\\bar x}}(\\bar x - \\lambda) => N(0,1), \\alpha_1 = 0.02$\n",
        "\n",
        "$\\Large p(T_1(\\bar x) \\leqslant \\lambda \\leqslant T_2(\\bar x)) = 1 - \\alpha_1$\n",
        "\n",
        "$\\Large 𝑝(−𝑥_𝛼≤\\sqrt{\\frac {n}{\\bar{\\bar x}}}(𝑥̅−𝜆)≤_𝛼)=Ф(𝑥_𝛼)−Ф(−𝑥_𝛼)=2∗Ф(𝑥_𝛼)−1=1−𝛼1$\n",
        "\n",
        "где $\\Large Ф(𝑥_𝛼)=\\frac 1{\\sqrt {2\\pi}}∫_{- \\infty}^{x_\\alpha}𝑒^{-\\frac{t^2}{2}}dt$ - квантиль порядка $x_α$ стандартного нормального закона распределения.\n",
        "\n",
        "$\\large x_\\alpha = Ф^{-1}(1-\\frac{\\alpha_1}{2})$\n",
        "\n",
        "$\\large p(\\bar x - x_\\alpha\\sqrt{\\frac{\\bar{\\bar x}}{n}}\\leqslant \\lambda \\leqslant \\bar x + x_\\alpha\\sqrt{\\frac{\\bar{\\bar x}}{n}}) = 1-\\alpha_1$\n",
        "\n",
        "\n",
        "$$ [4.02-x_\\alpha*0.4949182; 4.02+x_\\alpha*0.4949182]$$\n"
      ],
      "attachments":{
        
      },
      "metadata":{
        "datalore":{
          "sheet_delimiter":false
        }
      }
    },
    {
      "cell_type":"code",
      "source":[
        "\n",
        "a_1 <- 0.02 #вероятность того что не попадет в интервал \n",
        "x_a <- qnorm(1-a_1\/2)\n",
        "\n",
        "T[1]<-E-xa*sqrt((E*(E+1))\/length(x)) \n",
        "\n",
        "T[2]<-E+xa*sqrt((E*(E+1))\/length(x)) \n",
        "cat(\"Левая граница = \", T[1],\"\\n\")\n",
        "cat(\"Правая граница = \", T[2])"
      ],
      "execution_count":390,
      "outputs":[
        {
          "name":"stdout",
          "text":[
            "Левая граница =  3.184626 \n",
            "Правая граница =  6.775374"
          ],
          "output_type":"stream"
        }
      ],
      "metadata":{
        "datalore":{
          "sheet_delimiter":false
        }
      }
    },
    {
      "cell_type":"markdown",
      "source":[
        "### e) Используя гистограмму частот, построить критерий значимости χ2 проверки простой гипотезы согласия с распределением Пуассона с параметром λ0. Проверить гипотезу на уровне значимости α1. Вычислить наибольшее значение уровня значимости, на котором еще нет оснований отвергнуть данную гипотезу.\n",
        "\n",
        "Таблица частот имеет вид"
      ],
      "attachments":{
        
      },
      "metadata":{
        "datalore":{
          "sheet_delimiter":false
        }
      }
    },
    {
      "cell_type":"code",
      "source":[
        "table(x)"
      ],
      "execution_count":382,
      "outputs":[
        {
          "data":{
            "text\/plain":[
              "x\n",
              " 1  2  3  4  5  6  7  8  9 10 13 \n",
              " 4  3  6  6 10 13  3  2  1  1  1 "
            ]
          },
          "metadata":{
            
          },
          "output_type":"display_data"
        }
      ],
      "metadata":{
        "datalore":{
          "sheet_delimiter":false
        }
      }
    },
    {
      "cell_type":"markdown",
      "source":[
        
      ],
      "attachments":{
        
      },
      "metadata":{
        "datalore":{
          "sheet_delimiter":false
        }
      }
    },
    {
      "cell_type":"code",
      "source":[
        "lambda.0 <- 7\n",
        "nu <- h$counts\n",
        "brk <- 1:13\n",
        "lw <- c(-Inf, brk)\n",
        "up <- c(brk, Inf)\n",
        "p.0 <-ppois(up, lambda.0) - ppois(lw, lambda.0)\n",
        "cat(\"f\",(nu - length(x)*p.0)^2\/(length(x)*p.0))\n",
        "X <- sum((nu - length(x)*p.0)^2\/(length(x)*p.0))\n",
        "x.alpha <- qchisq(0.98, 13)\n",
        "x.alpha\n",
        "cat(\"\\nВыборка  = \",X)\n",
        "cat(\"\\nнаибольшмй уровень значимости = \",1 - pchisq(X, 13))"
      ],
      "execution_count":383,
      "outputs":[
        {
          "name":"stdout",
          "text":[
            "f 120.7023 106.0274 159.5635 0.04219167 3.01222 7.450139 5.584365 0.03550991 9.471292 106.5984 3.327565 0.3535629 0.709419 0.2016802\n",
            "Выборка  =  523.0796\n",
            "наибольшмй уровень значимости =  0"
          ],
          "output_type":"stream"
        }
      ],
      "metadata":{
        "datalore":{
          "sheet_delimiter":false
        }
      }
    },
    {
      "cell_type":"markdown",
      "source":[
        "### f) Построить критерий значимости χ2 проверки сложной гипотезы согласия с распределением Пуассона. Проверить гипотезу на уровне значимости α1. Вычислить наибольшее значение уровня значимости, на котором еще нет оснований отвергнуть данную гипотезу."
      ],
      "attachments":{
        
      },
      "metadata":{
        "datalore":{
          "sheet_delimiter":false
        }
      }
    },
    {
      "cell_type":"code",
      "source":[
        "\n",
        "f <-  function(lambda){\n",
        "  p.0 <-ppois(up, lambda) - ppois(lw, lambda)\n",
        "  X <- sum((nu - length(x)*p.0)^2\/(length(x)*p.0)) \n",
        "  return(X)\n",
        "}\n",
        "nlm.res <- nlm(f, mean(x)) #нелинейная минимизация\n",
        "x.alpha <- qchisq(0.98, 12)\n",
        "\n",
        "cat(\"x.alpha - \", x.alpha)\n",
        "X.bar <- nlm.res$minimum\n",
        "cat(\"\\nX.bar - \", X.bar)"
      ],
      "execution_count":388,
      "outputs":[
        {
          "name":"stdout",
          "text":[
            "x.alpha -  24.05396\n",
            "X.bar -  428.024"
          ],
          "output_type":"stream"
        },
        {
          "name":"stderr",
          "text":[
            "Warning message in nlm(f, mean(x)):\n",
            "“NA\/Inf replaced by maximum positive value”\n"
          ],
          "output_type":"stream"
        }
      ],
      "metadata":{
        "datalore":{
          "sheet_delimiter":false
        }
      }
    },
    {
      "cell_type":"markdown",
      "source":[
        "### h) В пунктах (c)-(f) заменить семейство распределений Пуассона на семейство геометрических распределений."
      ],
      "attachments":{
        
      },
      "metadata":{
        "datalore":{
          "sheet_delimiter":false
        }
      }
    },
    {
      "cell_type":"code",
      "source":[
        "lambda.1 <- 5\n",
        "nu1 <- h$counts\n",
        "brk1 <- 1:13\n",
        "lw1 <- c(-Inf, brk1)\n",
        "up1 <- c(brk1, Inf)\n",
        "p.1 <-pgeom(up1, 1\/(lambda.1 + 1)) - pgeom(lw1, 1\/(lambda.1 + 1))\n",
        "X <- sum((nu1 - length(x)*p.1)^2\/(length(x)*p.1))\n",
        "x.alpha <- qchisq(0.98, 13)\n",
        "cat(\"Выборка  = \",X)\n",
        "cat(\"\\nнаибольшмй уровень значимости = \",1 - pchisq(X, 13))"
      ],
      "execution_count":385,
      "outputs":[
        {
          "name":"stdout",
          "text":[
            "Выборка  =  529.9512\n",
            "наибольшмй уровень значимости =  0"
          ],
          "output_type":"stream"
        }
      ],
      "metadata":{
        "datalore":{
          "sheet_delimiter":false
        }
      }
    },
    {
      "cell_type":"code",
      "source":[
        "f1 <-  function(lambda){\n",
        "  p.2 <-pgeom(up1, 1\/(lambda.1 + 1)) - pgeom(lw1, 1\/(lambda.1 + 1))\n",
        "  X <- sum((nu - length(x)*p.2)^2\/(length(x)*p.2)) \n",
        "  return(X)\n",
        "}\n",
        "nlm.res <- nlm(f1, mean(x))\n",
        "x.alpha <- qchisq(0.98, 13)\n",
        "\n",
        "cat(\"x.alpha - \", x.alpha)\n",
        "X.bar <- nlm.res$minimum\n",
        "cat(\"\\nX.bar - \", X.bar)"
      ],
      "execution_count":391,
      "outputs":[
        {
          "name":"stdout",
          "text":[
            "x.alpha -  25.47151\n",
            "X.bar -  529.9512"
          ],
          "output_type":"stream"
        }
      ],
      "metadata":{
        "datalore":{
          "sheet_delimiter":false
        }
      }
    }
  ],
  "metadata":{
    "kernelspec":{
      "display_name":"R",
      "language":"r",
      "name":"ir"
    }
  },
  "nbformat":4,
  "nbformat_minor":0
}