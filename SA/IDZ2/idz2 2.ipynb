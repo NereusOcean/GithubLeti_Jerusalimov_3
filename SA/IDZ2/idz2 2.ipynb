{
  "cells":[
    {
      "cell_type":"markdown",
      "source":[
        "## 2. Задание 2:\n",
        "\n",
        "### a) Построить вариационный ряд, эмпирическую функцию распределения, гистограмму и полигон частот с шагом h.\n",
        "\n",
        "Построение вариационного ряд:"
      ],
      "attachments":{
        
      },
      "metadata":{
        "datalore":{
          "sheet_delimiter":false
        }
      }
    },
    {
      "cell_type":"code",
      "source":[
        "x<-c(2.877,3.162,3.071,2.939,3.055,2.928,3.053,2.979,2.845,3.042,3.043,3.109,3.102,3.001,3.021,2.894,3.103,2.971,3.069,2.977,3.038,\n",
        "2.998,2.896,3.065,2.829,3.025,2.879,3.036,3.001,2.979,3.007,2.754,3.061,3.015,2.892,3.068,2.998,3.128,3.035,3.159,3.091,3.156,\n",
        "3.004,2.813,2.983,2.951,2.944,3.127,3.041,3.278)\n",
        "\n",
        "VariationalSeries<-sort(x)\n",
        "cat(\"Вариационный ряд: \",VariationalSeries)"
      ],
      "execution_count":101,
      "outputs":[
        {
          "name":"stdout",
          "text":[
            "Вариационный ряд:  2.754 2.813 2.829 2.845 2.877 2.879 2.892 2.894 2.896 2.928 2.939 2.944 2.951 2.971 2.977 2.979 2.979 2.983 2.998 2.998 3.001 3.001 3.004 3.007 3.015 3.021 3.025 3.035 3.036 3.038 3.041 3.042 3.043 3.053 3.055 3.061 3.065 3.068 3.069 3.071 3.091 3.102 3.103 3.109 3.127 3.128 3.156 3.159 3.162 3.278"
          ],
          "output_type":"stream"
        }
      ],
      "metadata":{
        "datalore":{
          "sheet_delimiter":false
        }
      }
    },
    {
      "cell_type":"code",
      "source":[
        "F<- function(x,t){z<-x[x<t]; length(z)\/length(x)}\n",
        "plot(ecdf(x))\n",
        "h <- hist(x, col=\"purple\")\n",
        "h2 <- hist(x,breaks=seq(min(x)-1, max(x)+1, by=0.05) ,col=\"purple\", main = \"Полигон частот с шагом h = 0.05\")\n",
        "lines(h2$counts~h2$mids, col=\"red\")"
      ],
      "execution_count":102,
      "outputs":[
        {
          "data":{
            "image\/png":"[encoded data removed]"
          },
          "metadata":{
            "image\/png":{
              "width":420,
              "height":420
            }
          },
          "output_type":"display_data"
        }
      ],
      "metadata":{
        "datalore":{
          "sheet_delimiter":false
        }
      }
    },
    {
      "cell_type":"markdown",
      "source":[
        "### **b)** Вычислить выборочные аналоги следующих числовых характеристик:(i) математического ожидания, (ii) дисперсии, (iii) медианы, (iv) асимметрии, (v) эксцесса, (vi) вероятности P(X $\\in$ [a, b]).\n",
        "\n",
        "**(i) Нахождение математического ожидания:**"
      ],
      "attachments":{
        
      },
      "metadata":{
        "datalore":{
          "sheet_delimiter":false
        }
      }
    },
    {
      "cell_type":"code",
      "source":[
        "E<-sum(x)\/length(x)\n",
        "cat(\"E(x) = \",E)"
      ],
      "execution_count":103,
      "outputs":[
        {
          "name":"stdout",
          "text":[
            "E(x) =  3.00984"
          ],
          "output_type":"stream"
        }
      ],
      "metadata":{
        "datalore":{
          "sheet_delimiter":false
        }
      }
    },
    {
      "cell_type":"markdown",
      "source":[
        "**(ii) Нахождение дисперсии**"
      ],
      "attachments":{
        
      },
      "metadata":{
        "datalore":{
          "sheet_delimiter":false
        }
      }
    },
    {
      "cell_type":"code",
      "source":[
        "D<-sum(x^2)\/length(x)-E^2\n",
        "cat(\"D(x) = \",D)"
      ],
      "execution_count":104,
      "outputs":[
        {
          "name":"stdout",
          "text":[
            "D(x) =  0.009800854"
          ],
          "output_type":"stream"
        }
      ],
      "metadata":{
        "datalore":{
          "sheet_delimiter":false
        }
      }
    },
    {
      "cell_type":"markdown",
      "source":[
        "**(iii) Нахождение медианы:**"
      ],
      "attachments":{
        
      },
      "metadata":{
        "datalore":{
          "sheet_delimiter":false
        }
      }
    },
    {
      "cell_type":"code",
      "source":[
        "\n",
        "cat(\"M_e = \", median(x))"
      ],
      "execution_count":105,
      "outputs":[
        {
          "name":"stdout",
          "text":[
            "M_e =  3.018"
          ],
          "output_type":"stream"
        }
      ],
      "metadata":{
        "datalore":{
          "sheet_delimiter":false
        }
      }
    },
    {
      "cell_type":"markdown",
      "source":[
        "**(iv) Нахождение асимметрии:**"
      ],
      "attachments":{
        
      },
      "metadata":{
        "datalore":{
          "sheet_delimiter":false
        }
      }
    },
    {
      "cell_type":"code",
      "source":[
        "A_s<-sum((x-E)^3)\/(length(x)*D^(3\/2));\n",
        "cat(\"A_s = \", A_s,\"\\n\")"
      ],
      "execution_count":106,
      "outputs":[
        {
          "name":"stdout",
          "text":[
            "A_s =  -0.1795672 \n"
          ],
          "output_type":"stream"
        }
      ],
      "metadata":{
        "datalore":{
          "sheet_delimiter":false
        }
      }
    },
    {
      "cell_type":"markdown",
      "source":[
        "**(v) Нахождение эксцесса:**"
      ],
      "attachments":{
        
      },
      "metadata":{
        "datalore":{
          "sheet_delimiter":false
        }
      }
    },
    {
      "cell_type":"code",
      "source":[
        "E_k<-(sum((x-E)^4)\/(length(x)*D^2))-3;\n",
        "cat(\"E_k = \", E_k)"
      ],
      "execution_count":107,
      "outputs":[
        {
          "name":"stdout",
          "text":[
            "E_k =  0.3814977"
          ],
          "output_type":"stream"
        }
      ],
      "metadata":{
        "datalore":{
          "sheet_delimiter":false
        }
      }
    },
    {
      "cell_type":"markdown",
      "source":[
        "**(vi) Нахождение вероятности $P(X∈[c,d])$:**"
      ],
      "attachments":{
        
      },
      "metadata":{
        "datalore":{
          "sheet_delimiter":false
        }
      }
    },
    {
      "cell_type":"code",
      "source":[
        "c <- 2.29\n",
        "d <- 3.06\n",
        "p <- F(x,d) - F(x,c)\n",
        "cat(\"P(X∈[c,d]) = \", p)"
      ],
      "execution_count":108,
      "outputs":[
        {
          "name":"stdout",
          "text":[
            "P(X∈[c,d]) =  0.7"
          ],
          "output_type":"stream"
        }
      ],
      "metadata":{
        "datalore":{
          "sheet_delimiter":false
        }
      }
    },
    {
      "cell_type":"markdown",
      "source":[
        "### d) Построить асимптотический доверительный интервал уровня значимости α2 для параметра λ на базе оценки максимального правдоподобия.\n",
        "\n",
        "Так как $x_i$ имеет распределение Пуассона, то $I_1(\\lambda)=\\frac 1\\lambda$. Из этого следует, что $I(𝜆)=𝑛∗𝐼_1(𝜆)=\\frac n\\lambda $.\n",
        "\n",
        "По методу максимального правдоподобия:\n",
        "\n",
        "$\\Large \\bar \\lambda = \\frac{1}{\\bar {\\bar x}} $\n",
        "\n",
        "$\\Large \\sqrt{I(\\lambda)}(\\bar \\lambda - \\lambda) => N(0,1)$\n",
        "\n",
        "Эксперимент регулярен, значит, подстановка ОМП вместо параметра в информацию Фишера не нарушает асимптотической нормальности.\n",
        "\n",
        "$\\Large \\sqrt{n*I_1(\\lambda)}(\\bar  \\lambda - \\lambda) => N(0,1)$\n",
        "\n",
        "$\\Large \\sqrt{\\frac{n}{\\lambda ^2}}(\\frac {1 }{\\bar x} - \\lambda) => N(0,1), \\alpha_2 = 0.1$\n",
        "\n",
        "$\\Large p(T_1(\\bar x) \\leqslant \\lambda \\leqslant T_2(\\bar x)) = 1 - \\alpha_2$\n",
        "\n",
        "$\\Large 𝑝(−𝑥_𝛼≤\\sqrt{n \\bar x^2}(\\frac{1}{𝑥̅}−𝜆)≤x_𝛼)=Ф(𝑥_𝛼)−Ф(−𝑥_𝛼)=2∗Ф(𝑥_𝛼)−1=1−𝛼_2$\n",
        "\n",
        "где $\\Large Ф(𝑥_𝛼)=\\frac 1{\\sqrt {2\\pi}}∫_{- \\infty}^{x_\\alpha}𝑒^{-\\frac{t^2}{2}}dt$ - квантиль порядка $x_α$ стандартного нормального закона распределения.\n",
        "\n",
        "$\\large x_\\alpha = Ф^{-1}(1-\\frac{\\alpha_1}{2})$\n",
        "\n",
        "$\\large p(\\frac{1}{\\bar x} - x_\\alpha\\sqrt{\\frac{1}{n\\bar{\\bar x^2}}}\\leqslant \\lambda \\leqslant \\frac{1}{\\bar x} + x_\\alpha\\sqrt{\\frac{1}{n\\bar{\\bar x^2}}}) = 1-\\alpha_2$"
      ],
      "attachments":{
        
      },
      "metadata":{
        "datalore":{
          "sheet_delimiter":false
        }
      }
    },
    {
      "cell_type":"code",
      "source":[
        "a_2 <- 0.1 #вероятность того что не попадет в интервал \n",
        "x_a <- qnorm(1-a_2\/2)\n",
        "\n",
        "T[1]<-1\/E-x_a\/sqrt(E*E*length(x)) \n",
        "\n",
        "T[2]<-1\/E+x_a\/sqrt(E*E*length(x)) \n",
        "cat(\"Левая граница = \", T[1],\"\\n\")\n",
        "cat(\"Правая граница = \", T[2])"
      ],
      "execution_count":109,
      "outputs":[
        {
          "name":"stdout",
          "text":[
            "Левая граница =  0.2549579 \n",
            "Правая граница =  0.4095292"
          ],
          "output_type":"stream"
        }
      ],
      "metadata":{
        "datalore":{
          "sheet_delimiter":false
        }
      }
    },
    {
      "cell_type":"markdown",
      "source":[
        "### f) Используя гистограмму частот, построить критерий значимости χ2 проверки простой гипотезы согласия с показательным распределением с параметром λ0. Проверить гипотезу на уровне α2. Вычислить наибольшее значение уровня значимости, на котором еще нет оснований отвергнуть данную гипотезу."
      ],
      "attachments":{
        
      },
      "metadata":{
        "datalore":{
          "sheet_delimiter":false
        }
      }
    },
    {
      "cell_type":"code",
      "source":[
        "table(x)"
      ],
      "execution_count":110,
      "outputs":[
        {
          "data":{
            "text\/plain":[
              "x\n",
              "2.754 2.813 2.829 2.845 2.877 2.879 2.892 2.894 2.896 2.928 2.939 2.944 2.951 \n",
              "    1     1     1     1     1     1     1     1     1     1     1     1     1 \n",
              "2.971 2.977 2.979 2.983 2.998 3.001 3.004 3.007 3.015 3.021 3.025 3.035 3.036 \n",
              "    1     1     2     1     2     2     1     1     1     1     1     1     1 \n",
              "3.038 3.041 3.042 3.043 3.053 3.055 3.061 3.065 3.068 3.069 3.071 3.091 3.102 \n",
              "    1     1     1     1     1     1     1     1     1     1     1     1     1 \n",
              "3.103 3.109 3.127 3.128 3.156 3.159 3.162 3.278 \n",
              "    1     1     1     1     1     1     1     1 "
            ]
          },
          "metadata":{
            
          },
          "output_type":"display_data"
        }
      ],
      "metadata":{
        "datalore":{
          "sheet_delimiter":false
        }
      }
    },
    {
      "cell_type":"code",
      "source":[
        "alpha.0 <- 3.00\n",
        "sigma.0 <- 0.1\n",
        "nu <- h$counts\n",
        "brk <- 1:length(h$breaks)-1\n",
        "\n",
        "lw <- c(-Inf, brk)\n",
        "up <- c(brk, Inf)\n",
        "p.0 <-pnorm(up, alpha.0, sigma.0) - pnorm(lw, alpha.0, sigma.0)\n",
        "\n",
        "\n",
        "X <- sum((nu - length(x)*p.0)^2\/(length(x)*p.0))\n",
        "\n",
        "x.alpha <- qchisq(0.98, length(h$breaks)-1)\n",
        "\n",
        "cat(\"\\nВыборка  = \",X)\n",
        "cat(\"\\nнаибольшмй уровень значимости = \",1 - pchisq(X, length(h$breaks)-1))"
      ],
      "execution_count":111,
      "outputs":[
        {
          "name":"stdout",
          "text":[
            "\n",
            "Выборка  =  Inf\n",
            "наибольшмй уровень значимости =  0"
          ],
          "output_type":"stream"
        },
        {
          "name":"stderr",
          "text":[
            "Warning message in nu - length(x) * p.0:\n",
            "“longer object length is not a multiple of shorter object length”\n"
          ],
          "output_type":"stream"
        }
      ],
      "metadata":{
        "datalore":{
          "sheet_delimiter":false
        }
      }
    },
    {
      "cell_type":"markdown",
      "source":[
        "### g) Построить критерий проверки значимости χ2 сложной гипотезы согласия с показательным распределением. Проверить гипотезу на уровне α2. Вычислить наибольшее значение уровня значимости, на котором еще нет оснований отвергнуть данную гипотезу."
      ],
      "attachments":{
        
      },
      "metadata":{
        "datalore":{
          "sheet_delimiter":false
        }
      }
    },
    {
      "cell_type":"code",
      "source":[
        "f <-  function(alpha, sigma){\n",
        "  p.0 <-pnorm(up, alpha, sigma) - pnorm(lw, alpha, sigma)\n",
        "  X <- sum((nu - length(x)*p.0)^2\/(length(x)*p.0)) \n",
        "  return(X)\n",
        "}\n",
        "nlm.res <- nlm(f, mean(x), var(x))\n",
        "x.alpha <- qchisq(0.98, length(h$breaks)-2)\n",
        "\n",
        "cat(\"x.alpha - \", x.alpha)\n",
        "X.bar <- nlm.res$minimum\n",
        "cat(\"\\nX.bar - \", X.bar)"
      ],
      "execution_count":112,
      "outputs":[
        {
          "name":"stdout",
          "text":[
            "x.alpha -  13.38822\n",
            "X.bar -  1.797693e+308"
          ],
          "output_type":"stream"
        },
        {
          "name":"stderr",
          "text":[
            "Warning message in nu - length(x) * p.0:\n",
            "“longer object length is not a multiple of shorter object length”\n",
            "Warning message in nu - length(x) * p.0:\n",
            "“longer object length is not a multiple of shorter object length”\n",
            "Warning message in nlm(f, mean(x), var(x)):\n",
            "“NA\/Inf replaced by maximum positive value”\n",
            "Warning message in nu - length(x) * p.0:\n",
            "“longer object length is not a multiple of shorter object length”\n",
            "Warning message in nlm(f, mean(x), var(x)):\n",
            "“NA\/Inf replaced by maximum positive value”\n"
          ],
          "output_type":"stream"
        }
      ],
      "metadata":{
        "datalore":{
          "sheet_delimiter":false
        }
      }
    },
    {
      "cell_type":"markdown",
      "source":[
        "### i) В пунктах (c)-(h) заменить семейство показательных распределений на семейство гамма-распределений."
      ],
      "attachments":{
        
      },
      "metadata":{
        "datalore":{
          "sheet_delimiter":false
        }
      }
    },
    {
      "cell_type":"code",
      "source":[
        "\n",
        "nu <- h$counts\n",
        "brk <- 1:length(h$breaks)\n",
        "lw <- c(-Inf, brk)\n",
        "up <- c(brk, Inf)\n",
        "p.0 <-pnorm(up, alpha.0, sigma.0) - pnorm(lw, alpha.0, sigma.0)\n",
        "X <- sum((nu - length(x)*p.0)^2\/(length(x)*p.0))\n",
        "\n",
        "x.alpha <- qchisq(0.98, length(h$breaks)-1)\n",
        "cat(\"\\nВыборка  = \",X)\n",
        "cat(\"\\nнаибольшмй уровень значимости = \",1 - pchisq(X, length(h$breaks)-1))"
      ],
      "execution_count":116,
      "outputs":[
        {
          "name":"stdout",
          "text":[
            "\n",
            "Выборка  =  Inf\n",
            "наибольшмй уровень значимости =  0"
          ],
          "output_type":"stream"
        },
        {
          "name":"stderr",
          "text":[
            "Warning message in nu - length(x) * p.0:\n",
            "“longer object length is not a multiple of shorter object length”\n"
          ],
          "output_type":"stream"
        }
      ],
      "metadata":{
        "datalore":{
          "sheet_delimiter":false
        }
      }
    },
    {
      "cell_type":"code",
      "source":[
        "f <-  function(alpha, sigma){\n",
        "  p.0 <-pnorm(up, alpha, sigma) - pnorm(lw, alpha, sigma)\n",
        "  X <- sum((nu - length(x)*p.0)^2\/(length(x)*p.0)) \n",
        "  return(X)\n",
        "}\n",
        "nlm.res <- nlm(f, mean(x), sd(x))\n",
        "x.alpha <- qchisq(0.98, 7)\n",
        "\n",
        "cat(\"x.alpha - \", x.alpha)\n",
        "X.bar <- nlm.res$minimum\n",
        "cat(\"\\nX.bar - \", X.bar)"
      ],
      "execution_count":118,
      "outputs":[
        {
          "name":"stdout",
          "text":[
            "x.alpha -  16.62242\n",
            "X.bar -  1.797693e+308"
          ],
          "output_type":"stream"
        },
        {
          "name":"stderr",
          "text":[
            "Warning message in nu - length(x) * p.0:\n",
            "“longer object length is not a multiple of shorter object length”\n",
            "Warning message in nu - length(x) * p.0:\n",
            "“longer object length is not a multiple of shorter object length”\n",
            "Warning message in nlm(f, mean(x), sd(x)):\n",
            "“NA\/Inf replaced by maximum positive value”\n",
            "Warning message in nu - length(x) * p.0:\n",
            "“longer object length is not a multiple of shorter object length”\n",
            "Warning message in nlm(f, mean(x), sd(x)):\n",
            "“NA\/Inf replaced by maximum positive value”\n"
          ],
          "output_type":"stream"
        }
      ],
      "metadata":{
        "datalore":{
          "sheet_delimiter":false
        }
      }
    }
  ],
  "metadata":{
    "kernelspec":{
      "display_name":"R",
      "language":"r",
      "name":"ir"
    }
  },
  "nbformat":4,
  "nbformat_minor":0
}