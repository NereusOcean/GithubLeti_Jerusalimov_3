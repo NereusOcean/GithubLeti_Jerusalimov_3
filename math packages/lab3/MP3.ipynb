{
  "cells":[
    {
      "cell_type":"markdown",
      "source":[
        "# Лабораторная работа №3  \n",
        "## Вариант 26\n",
        "\n",
        "*Цель работы* – практическое применение библиотеки символьных вычислений Python (SymPy) для решения задач дискретной математики и математической логики.   \n",
        "\n",
        "#### 1) Диофантовое уравнение  \n",
        "   \n",
        "$4750x-3743y=-133$\n",
        "                                                        \n",
        "   "
      ],
      "attachments":{
        
      },
      "metadata":{
        "datalore":{
          "sheet_delimiter":false
        }
      }
    },
    {
      "cell_type":"code",
      "source":[
        "from sympy.solvers.diophantine import diophantine\n",
        "from sympy import var\n",
        "x,y=var('x y')\n",
        "answer = diophantine(4750*x-3743*y+ 133)\n",
        "answer = tuple(answer)[0]\n",
        "x, y = answer\n",
        "\n",
        "print(f'x = {x}')\n",
        "print(f'y = {y}')"
      ],
      "execution_count":1,
      "outputs":[
        {
          "name":"stdout",
          "text":[
            "x = 197*t_0 + 182\n",
            "y = 250*t_0 + 231\n"
          ],
          "output_type":"stream"
        }
      ],
      "metadata":{
        "datalore":{
          "sheet_delimiter":false
        }
      }
    },
    {
      "cell_type":"markdown",
      "source":[
        "#### 2. Имея открытую часть ключа RSA найти соответствующую закрытую часть и расшифровать кодированное слово.  \n",
        "     \n",
        "    - Русское слово из четырех букв закодировано при помощи алгоритма RSA открытым ключом (e = 9, m = 33).  \n",
        "    - Шифрованное сообщение имеет вид (7; 5; 19; 3). Подберите закрытую часть ключа и прочитайте исходное слово.  \n",
        "    - Буквам русского алфавита соответсвуют числа в диапазоне от 2 до 32 (исключены буквы “e” и “ъ”).\n"
      ],
      "attachments":{
        
      },
      "metadata":{
        "datalore":{
          "sheet_delimiter":false
        }
      }
    },
    {
      "cell_type":"code",
      "source":[
        "from sympy.crypto.crypto import rsa_private_key\n",
        "from sympy.crypto.crypto import decipher_rsa, encipher_rsa\n",
        "\n",
        "key = rsa_private_key(33, 9)\n",
        "words = [7, 5, 19, 3]\n",
        "alph = \"йцукнафывапронлджкр\" #для примера придумал зашифрованный текст\n",
        "res = []\n",
        "for i in words:\n",
        "    dec = decipher_rsa(i, key)\n",
        "    symb = alph[dec-2]\n",
        "    res.append(symb)\n",
        "print(f\"Result = {''.join(res)}\")"
      ],
      "execution_count":21,
      "outputs":[
        {
          "name":"stdout",
          "text":[
            "Result = кран\n"
          ],
          "output_type":"stream"
        }
      ],
      "metadata":{
        "datalore":{
          "sheet_delimiter":false
        }
      }
    },
    {
      "cell_type":"markdown",
      "source":[
        "#### Преобразование булевой функции\n",
        "\n",
        "Вариант 36\n",
        "\n",
        "Записать в формате ДНФ и КНФ булеву функцию, заданную своим аналитическим выражением.\n",
        "\n",
        "$f(x, y, z) =(z ∨ (x \\oplus y))((z \\oplus y)(x ∨ y))$"
      ],
      "attachments":{
        
      },
      "metadata":{
        "datalore":{
          "sheet_delimiter":false
        }
      }
    },
    {
      "cell_type":"code",
      "source":[
        "from sympy.logic.boolalg import *\n",
        "x,y,z=var('x y z')\n",
        "print(f\"КНФ = {to_cnf((( z | ( x^y )) & (( z^y ) & ( x | y)) ), True)}\")\n",
        "print(f\"ДНФ = {to_dnf((( z | ( x^y )) & (( z^y ) & ( x | y)) ), True)}\")"
      ],
      "execution_count":22,
      "outputs":[
        {
          "name":"stdout",
          "text":[
            "КНФ = (x | y) & (z | ~x) & (~y | ~z)\n",
            "ДНФ = (x & z & ~y) | (y & ~x & ~z)\n"
          ],
          "output_type":"stream"
        }
      ],
      "metadata":{
        "datalore":{
          "sheet_delimiter":false
        }
      }
    }
  ],
  "metadata":{
    
  },
  "nbformat":4,
  "nbformat_minor":0
}